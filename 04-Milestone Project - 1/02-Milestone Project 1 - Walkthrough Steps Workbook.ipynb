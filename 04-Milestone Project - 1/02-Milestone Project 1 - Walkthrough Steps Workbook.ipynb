{
 "cells": [
  {
   "cell_type": "markdown",
   "metadata": {},
   "source": [
    "# Milestone Project 1: Walkthrough Steps Workbook\n",
    "\n",
    "Below is a set of steps for you to follow to try to create the Tic Tac Toe Milestone Project game!"
   ]
  },
  {
   "cell_type": "markdown",
   "metadata": {},
   "source": [
    "#### Some suggested tools before you get started:\n",
    "To take input from a user:\n",
    "\n",
    "    player1 = input(\"Please pick a marker 'X' or 'O'\")\n",
    "    \n",
    "Note that input() takes in a string. If you need an integer value, use\n",
    "\n",
    "    position = int(input('Please enter a number'))\n",
    "    \n",
    "<br>To clear the screen between moves:\n",
    "\n",
    "    from IPython.display import clear_output\n",
    "    clear_output()\n",
    "    \n",
    "Note that clear_output() will only work in jupyter. To clear the screen in other IDEs, consider:\n",
    "\n",
    "    print('\\n'*100)\n",
    "    \n",
    "This scrolls the previous board up out of view. Now on to the program!"
   ]
  },
  {
   "cell_type": "markdown",
   "metadata": {},
   "source": [
    "**Step 1: Write a function that can print out a board. Set up your board as a list, where each index 1-9 corresponds with a number on a number pad, so you get a 3 by 3 board representation.**"
   ]
  },
  {
   "cell_type": "code",
   "execution_count": 10,
   "metadata": {},
   "outputs": [],
   "source": [
    "from IPython.display import clear_output\n",
    "\n",
    "def display_board(board):\n",
    "    print(f'{board[7]}|{board[8]}|{board[9]}')\n",
    "    print('-----')\n",
    "    print(f'{board[4]}|{board[5]}|{board[6]}')\n",
    "    print('-----')\n",
    "    print(f'{board[1]}|{board[2]}|{board[3]}')"
   ]
  },
  {
   "cell_type": "markdown",
   "metadata": {},
   "source": [
    "**TEST Step 1:** run your function on a test version of the board list, and make adjustments as necessary"
   ]
  },
  {
   "cell_type": "code",
   "execution_count": 11,
   "metadata": {},
   "outputs": [
    {
     "name": "stdout",
     "output_type": "stream",
     "text": [
      " | | \n",
      "-----\n",
      " | | \n",
      "-----\n",
      " | | \n"
     ]
    }
   ],
   "source": [
    "test_board = ['#',' ',' ',' ',' ',' ',' ',' ',' ',' ']\n",
    "display_board(test_board)"
   ]
  },
  {
   "cell_type": "markdown",
   "metadata": {},
   "source": [
    "**Step 2: Write a function that can take in a player input and assign their marker as 'X' or 'O'. Think about using *while* loops to continually ask until you get a correct answer.**"
   ]
  },
  {
   "cell_type": "code",
   "execution_count": 12,
   "metadata": {},
   "outputs": [],
   "source": [
    "def player_input():\n",
    "    \n",
    "    player1 = ''\n",
    "    \n",
    "    while player1.upper() != 'X' and player1.upper() != 'O':\n",
    "        player1 = input('Player 1, choose X or O: ').upper()\n",
    "        \n",
    "    if player1 == 'X':\n",
    "        print('Player 1 mark is X and Player 2 mark is O')\n",
    "        return ('X', 'O')\n",
    "    else:\n",
    "        print('Player 1 mark is O and Player 2 mark is X')\n",
    "        return ('O', 'X')"
   ]
  },
  {
   "cell_type": "markdown",
   "metadata": {},
   "source": [
    "**TEST Step 2:** run the function to make sure it returns the desired output"
   ]
  },
  {
   "cell_type": "code",
   "execution_count": 13,
   "metadata": {},
   "outputs": [
    {
     "name": "stdout",
     "output_type": "stream",
     "text": [
      "Player 1, choose X or O: x\n",
      "Player 1 mark is X and Player 2 mark is O\n"
     ]
    }
   ],
   "source": [
    "player1_mark, player2_mark = player_input()"
   ]
  },
  {
   "cell_type": "markdown",
   "metadata": {},
   "source": [
    "**Step 3: Write a function that takes in the board list object, a marker ('X' or 'O'), and a desired position (number 1-9) and assigns it to the board.**"
   ]
  },
  {
   "cell_type": "code",
   "execution_count": 14,
   "metadata": {},
   "outputs": [],
   "source": [
    "def place_marker(board, marker, position):\n",
    "    board[position] = marker"
   ]
  },
  {
   "cell_type": "markdown",
   "metadata": {},
   "source": [
    "**TEST Step 3:** run the place marker function using test parameters and display the modified board"
   ]
  },
  {
   "cell_type": "code",
   "execution_count": 15,
   "metadata": {},
   "outputs": [
    {
     "name": "stdout",
     "output_type": "stream",
     "text": [
      "X|X|X\n",
      "-----\n",
      " | | \n",
      "-----\n",
      " | | \n"
     ]
    }
   ],
   "source": [
    "place_marker(test_board,'X',7)\n",
    "place_marker(test_board,'X',8)\n",
    "place_marker(test_board,'X',9)\n",
    "display_board(test_board)"
   ]
  },
  {
   "cell_type": "markdown",
   "metadata": {},
   "source": [
    "**Step 4: Write a function that takes in a board and a mark (X or O) and then checks to see if that mark has won. **"
   ]
  },
  {
   "cell_type": "code",
   "execution_count": 16,
   "metadata": {},
   "outputs": [],
   "source": [
    "def win_check(board, mark):\n",
    "    return ((board[7] == board[8] == board[9] == mark) or \n",
    "    (board[4] == board[5] == board[6] == mark) or\n",
    "    (board[1] == board[2] == board[3] == mark) or\n",
    "    (board[1] == board[5] == board[9] == mark) or\n",
    "    (board[3] == board[5] == board[7] == mark) or\n",
    "    (board[1] == board[4] == board[7] == mark) or\n",
    "    (board[2] == board[5] == board[8] == mark) or\n",
    "    (board[3] == board[6] == board[9] == mark))"
   ]
  },
  {
   "cell_type": "markdown",
   "metadata": {},
   "source": [
    "**TEST Step 4:** run the win_check function against our test_board - it should return True"
   ]
  },
  {
   "cell_type": "code",
   "execution_count": 17,
   "metadata": {},
   "outputs": [
    {
     "data": {
      "text/plain": [
       "False"
      ]
     },
     "execution_count": 17,
     "metadata": {},
     "output_type": "execute_result"
    }
   ],
   "source": [
    "win_check(test_board,'O')"
   ]
  },
  {
   "cell_type": "markdown",
   "metadata": {},
   "source": [
    "**Step 5: Write a function that uses the random module to randomly decide which player goes first. You may want to lookup random.randint() Return a string of which player went first.**"
   ]
  },
  {
   "cell_type": "code",
   "execution_count": 67,
   "metadata": {},
   "outputs": [
    {
     "data": {
      "text/plain": [
       "'Player 2 goes first'"
      ]
     },
     "execution_count": 67,
     "metadata": {},
     "output_type": "execute_result"
    }
   ],
   "source": [
    "import random\n",
    "\n",
    "def choose_first():\n",
    "    initial_player = random.randint(1,2)\n",
    "    if initial_player == 1:\n",
    "        return (\"Player 1 goes first\")\n",
    "    else:\n",
    "        return (\"Player 2 goes first\")\n",
    "    \n",
    "choose_first()"
   ]
  },
  {
   "cell_type": "markdown",
   "metadata": {},
   "source": [
    "**Step 6: Write a function that returns a boolean indicating whether a space on the board is freely available.**"
   ]
  },
  {
   "cell_type": "code",
   "execution_count": 20,
   "metadata": {},
   "outputs": [
    {
     "data": {
      "text/plain": [
       "True"
      ]
     },
     "execution_count": 20,
     "metadata": {},
     "output_type": "execute_result"
    }
   ],
   "source": [
    "def space_check(board, position):\n",
    "    return board[position] == \" \"\n",
    "\n",
    "space_check(test_board, 1)"
   ]
  },
  {
   "cell_type": "markdown",
   "metadata": {},
   "source": [
    "**Step 7: Write a function that checks if the board is full and returns a boolean value. True if full, False otherwise.**"
   ]
  },
  {
   "cell_type": "code",
   "execution_count": 22,
   "metadata": {},
   "outputs": [
    {
     "data": {
      "text/plain": [
       "False"
      ]
     },
     "execution_count": 22,
     "metadata": {},
     "output_type": "execute_result"
    }
   ],
   "source": [
    "test_board2 = ['#','X','X','X','X',' ','X','X','X','X']\n",
    "\n",
    "def full_board_check(board):\n",
    "    for i in range(1, len(board)):\n",
    "        if space_check(board, i):\n",
    "            return False\n",
    "    return True\n",
    "full_board_check(test_board2)"
   ]
  },
  {
   "cell_type": "markdown",
   "metadata": {},
   "source": [
    "**Step 8: Write a function that asks for a player's next position (as a number 1-9) and then uses the function from step 6 to check if it's a free position. If it is, then return the position for later use.**"
   ]
  },
  {
   "cell_type": "code",
   "execution_count": null,
   "metadata": {},
   "outputs": [],
   "source": [
    "def player_choice(board):\n",
    "    player_move = 0\n",
    "    while player_move not in list(range(1,10)) or not space_check(board, player_move):\n",
    "        player_move = int(input('The position should be between 1 and 9: '))\n",
    "    \n",
    "    return player_move\n",
    "\n",
    "player_choice(test_board)"
   ]
  },
  {
   "cell_type": "markdown",
   "metadata": {},
   "source": [
    "**Step 9: Write a function that asks the player if they want to play again and returns a boolean True if they do want to play again.**"
   ]
  },
  {
   "cell_type": "code",
   "execution_count": 28,
   "metadata": {},
   "outputs": [
    {
     "name": "stdout",
     "output_type": "stream",
     "text": [
      "['#', ' ', ' ', ' ', ' ', ' ', ' ', 'X', 'X', 'X']\n",
      "Do you want to play again? Y or N: y\n"
     ]
    },
    {
     "data": {
      "text/plain": [
       "True"
      ]
     },
     "execution_count": 28,
     "metadata": {},
     "output_type": "execute_result"
    }
   ],
   "source": [
    "print(test_board)\n",
    "def replay():\n",
    "    play_again = ''\n",
    "    while play_again != 'Y' or play_again != 'N':\n",
    "        play_again = input('Do you want to play again? Y or N: ').upper()\n",
    "        if play_again == 'Y':\n",
    "            return True\n",
    "        elif play_again == 'N':\n",
    "            print('Thank you for playing Pyc Tac Toe!')\n",
    "            break\n",
    "                \n",
    "replay()"
   ]
  },
  {
   "cell_type": "markdown",
   "metadata": {
    "collapsed": true
   },
   "source": [
    "**Step 10: Here comes the hard part! Use while loops and the functions you've made to run the game!**"
   ]
  },
  {
   "cell_type": "code",
   "execution_count": null,
   "metadata": {},
   "outputs": [
    {
     "name": "stdout",
     "output_type": "stream",
     "text": [
      "Welcome to Tic Tac Toe!\n",
      "Here goes a filled board for a position reference.\n",
      "7|8|9\n",
      "-----\n",
      "4|5|6\n",
      "-----\n",
      "1|2|3\n",
      "X|X|X\n",
      "-----\n",
      " | | \n",
      "-----\n",
      " | | \n"
     ]
    }
   ],
   "source": [
    "import random\n",
    "\n",
    "print('Welcome to Tic Tac Toe!')\n",
    "print('Here goes a filled board for a position reference.')\n",
    "# Displaying the empty board\n",
    "def display_board(board):\n",
    "    print(f'{board[7]}|{board[8]}|{board[9]}')\n",
    "    print('-----')\n",
    "    print(f'{board[4]}|{board[5]}|{board[6]}')\n",
    "    print('-----')\n",
    "    print(f'{board[1]}|{board[2]}|{board[3]}')\n",
    "\n",
    "reference_board = ['#', '1', '2', '3', '4', '5', '6', '7', '8', '9']\n",
    "display_board(reference_board)\n",
    "\n",
    "# Making the choice between X and O\n",
    "def player_input():\n",
    "    player1 = input(\"Player 1, please pick a marker 'X' or 'O': \")\n",
    "    while True:\n",
    "        if player1.lower() == 'x':\n",
    "            print('Player 1 mark is X and Player 2 mark is O')\n",
    "            break\n",
    "        elif player1.lower() == 'o':\n",
    "            print('Player 1 mark is O and Player 2 mark is X')\n",
    "            break\n",
    "        else:\n",
    "            player1 = input(\"Your choice should be only between 'X' or 'O': \")\n",
    "\n",
    "    if player1.lower() == 'x':\n",
    "        player2 = 'O'\n",
    "    else:\n",
    "        player2 = 'X'\n",
    "\n",
    "    return (player1.upper(), player2.upper())\n",
    "\n",
    "# Randomly choose the player that will start the game\n",
    "def choose_first():\n",
    "    initial_player = random.randint(1, 2)\n",
    "    if initial_player == 1:\n",
    "        return \"Player 1\"\n",
    "    else:\n",
    "        return \"Player 2\"\n",
    "\n",
    "# Cheking if the place is empty\n",
    "def space_check(board, position):\n",
    "    if board[position] == \" \":\n",
    "        return True\n",
    "    else:\n",
    "        return False\n",
    "\n",
    "# Player choice\n",
    "def player_choice(board):\n",
    "    while True:\n",
    "        player_move = int(input(\"Type a position from 1 to 9 to play: \"))\n",
    "        if player_move == '':\n",
    "            print('You should type a position from 1 to 9!')\n",
    "        elif player_move < 1 or player_move > 9:\n",
    "            player_move = int(\n",
    "                input('The position should be between 1 and 9: '))\n",
    "        elif space_check(test_board, player_move):\n",
    "            return player_move\n",
    "        else:\n",
    "            return \"This position is not free!\"\n",
    "\n",
    "# Make the move\n",
    "def place_marker(board, marker, position):\n",
    "    board[position] = marker\n",
    "\n",
    "# Displaying the board\n",
    "display_board(test_board)\n",
    "\n",
    "def win_check(board, mark):\n",
    "    if (board[7] == board[8] == board[9] == mark) or (board[4] == board[5] == board[6] == mark) or \\\n",
    "        (board[1] == board[2] == board[3] == mark) or (board[1] == board[5] == board[9] == mark) or \\\n",
    "        (board[3] == board[5] == board[7] == mark) or (board[1] == board[4] == board[7] == mark) or \\\n",
    "        (board[2] == board[5] == board[8] == mark) or (board[3] == board[6] == board[9] == mark):\n",
    "        print('You win')\n",
    "        return True\n",
    "    else:\n",
    "        return False\n",
    "\n",
    "# Start to play the game.\n",
    "while True:\n",
    "    \n",
    "    # Setting the board.\n",
    "    game_board = [' '] * 10\n",
    "\n",
    "    # Assigning the markers X and Y.\n",
    "    player1_mark, player2_mark = player_input()\n",
    "\n",
    "    # Choosing who will play first.\n",
    "    turn = (choose_first())\n",
    "\n",
    "    play_game = input(\"Are you ready to play? Y of N: \").upper()\n",
    "    if play_game == 'Y':\n",
    "        game_on = True\n",
    "    else:\n",
    "        game_on = False\n",
    "\n",
    "    while game_on:\n",
    "        if turn == 'Player 1':\n",
    "            display_board(game_board)\n",
    "            position = player_choice(game_board)\n",
    "            place_marker(game_board,player1_mark,position)\n",
    "\n",
    "            if win_check(game_board,player1_mark):\n",
    "                display_board(game_board)\n",
    "                print(\"Congratulations Player 1. You win!\")\n",
    "                game_on = False\n",
    "            else:\n",
    "                if full_board_check(game_board):\n",
    "                    display_board(game_board)\n",
    "                    print(\"Draw game!\")\n",
    "                    game_on = False\n",
    "                else:\n",
    "                    turn = 'Player 2'\n",
    "        else:\n",
    "            display_board(game_board)\n",
    "            position = player_choice(game_board)\n",
    "            place_marker(game_board,player2_mark,position)\n",
    "\n",
    "            if win_check(game_board,player2_mark):\n",
    "                display_board(game_board)\n",
    "                print(\"Congratulations Player 2. You win!\")\n",
    "                game_on = False\n",
    "            else:\n",
    "                if full_board_check(game_board):\n",
    "                    display_board(game_board)\n",
    "                    print(\"Draw game!\")\n",
    "                    game_on = False\n",
    "                else:\n",
    "                    turn = 'Player 1'\n",
    "\n",
    "    if not replay():\n",
    "        break\n"
   ]
  },
  {
   "cell_type": "markdown",
   "metadata": {
    "collapsed": true
   },
   "source": [
    "## Good Job!"
   ]
  }
 ],
 "metadata": {
  "kernelspec": {
   "display_name": "Python 3",
   "language": "python",
   "name": "python3"
  },
  "language_info": {
   "codemirror_mode": {
    "name": "ipython",
    "version": 3
   },
   "file_extension": ".py",
   "mimetype": "text/x-python",
   "name": "python",
   "nbconvert_exporter": "python",
   "pygments_lexer": "ipython3",
   "version": "3.8.3"
  }
 },
 "nbformat": 4,
 "nbformat_minor": 1
}
